{
 "cells": [
  {
   "cell_type": "code",
   "execution_count": 1,
   "id": "4b7abeca-7511-4e3d-82d8-429e4c1a60c3",
   "metadata": {},
   "outputs": [],
   "source": [
    "#using Pkg\n",
    "#Pkg.add(\"JSON\")\n",
    "#Pkg.add(\"Clustering\")"
   ]
  },
  {
   "cell_type": "code",
   "execution_count": 2,
   "id": "de6dbb21-2974-4946-b780-7ef27b8a230e",
   "metadata": {},
   "outputs": [],
   "source": [
    "using JSON"
   ]
  },
  {
   "cell_type": "code",
   "execution_count": 3,
   "id": "a357b90c-9e97-4cae-8b20-6da5aec114b3",
   "metadata": {},
   "outputs": [],
   "source": [
    "# カレントフォルダにある拡張子が「txt」のファイル名の一覧\n",
    "files = filter(f -> isfile(f)&&occursin(r\".txt$\", f), readdir(\".\"))\n",
    "# 複数回に分けられて取得したjsonデータをマージする\n",
    "urls = []     # 記事の重複判定用\n",
    "articles = []   # 重複を覗いた記事\n",
    "days = Dict{String, Int}()\n",
    "categories = Dict{String, Int}()\n",
    "for file in files\n",
    "    data = JSON.parsefile(file)\n",
    "    for d in data\n",
    "        url = d[\"url\"]\n",
    "        if !(url in urls)\n",
    "            push!(articles, d)\n",
    "            day = split(d[\"datetime\"])[1]\n",
    "            days[day] = get(days, day, 0) + 1\n",
    "            category = d[\"category\"]\n",
    "            categories[category] = get(categories, category, 0) + 1\n",
    "            push!(urls, url)\n",
    "        end\n",
    "    end\n",
    "end"
   ]
  },
  {
   "cell_type": "code",
   "execution_count": 4,
   "id": "08aa7282-c435-415d-818b-44bb9668be3c",
   "metadata": {},
   "outputs": [
    {
     "data": {
      "text/plain": [
       "1562"
      ]
     },
     "execution_count": 4,
     "metadata": {},
     "output_type": "execute_result"
    }
   ],
   "source": [
    "length(articles)"
   ]
  },
  {
   "cell_type": "code",
   "execution_count": 5,
   "id": "01d717d0-5e26-44bb-9c30-3448f2256a49",
   "metadata": {},
   "outputs": [
    {
     "data": {
      "text/plain": [
       "Dict{String, Int64} with 23 entries:\n",
       "  \"6/28(火… => 86\n",
       "  \"7/2(土)\" => 71\n",
       "  \"7/6(水)\" => 92\n",
       "  \"7/8(金)\" => 98\n",
       "  \"7/5(火)\" => 81\n",
       "  \"7/1(金)\" => 83\n",
       "  \"7/4(月)\" => 77\n",
       "  \"6/26(日… => 65\n",
       "  \"6/25(土… => 73\n",
       "  \"6/27(月… => 81\n",
       "  \"6/29(水… => 94\n",
       "  \"7/12(火… => 79\n",
       "  \"7/9(土)\" => 64\n",
       "  \"6/22(水… => 10\n",
       "  \"7/13(水… => 2\n",
       "  \"7/10(日… => 67\n",
       "  \"6/24(金… => 72\n",
       "  \"7/11(月… => 109\n",
       "  \"6/21(火… => 2\n",
       "  \"6/30(木… => 90\n",
       "  \"7/3(日)\" => 63\n",
       "  \"6/23(木… => 7\n",
       "  \"7/7(木)\" => 96"
      ]
     },
     "execution_count": 5,
     "metadata": {},
     "output_type": "execute_result"
    }
   ],
   "source": [
    "# 発信日ごとの記事数\n",
    "days"
   ]
  },
  {
   "cell_type": "code",
   "execution_count": 6,
   "id": "1e2a241c-b5a8-4ee7-9caa-8d35e1ce3e15",
   "metadata": {},
   "outputs": [
    {
     "data": {
      "text/plain": [
       "Dict{String, Int64} with 8 entries:\n",
       "  \"local\"         => 301\n",
       "  \"domestic\"      => 317\n",
       "  \"sports\"        => 204\n",
       "  \"entertainment\" => 176\n",
       "  \"science\"       => 79\n",
       "  \"it\"            => 100\n",
       "  \"world\"         => 192\n",
       "  \"business\"      => 193"
      ]
     },
     "execution_count": 6,
     "metadata": {},
     "output_type": "execute_result"
    }
   ],
   "source": [
    "# カテゴリごとの記事数\n",
    "categories"
   ]
  },
  {
   "cell_type": "code",
   "execution_count": 7,
   "id": "9b7a410a-39bd-4185-9999-7d21d101c316",
   "metadata": {},
   "outputs": [],
   "source": [
    "# マージされた記事を保存\n",
    "filename = \"yahoo_merged.txt\"\n",
    "open(filename, \"w\") do f\n",
    "    println(f, json(articles))\n",
    "end"
   ]
  },
  {
   "cell_type": "code",
   "execution_count": 8,
   "id": "14c6eff0-328c-4722-98c4-485bec8a5b84",
   "metadata": {},
   "outputs": [
    {
     "data": {
      "text/plain": [
       "getlines (generic function with 1 method)"
      ]
     },
     "execution_count": 8,
     "metadata": {},
     "output_type": "execute_result"
    }
   ],
   "source": [
    "# クレンジング\n",
    "# 記事文字列からテキストデータを抽出し、形態素解析できるように加工する\n",
    "#   ・句点で改行させ、不要な空白・空行を除去\n",
    "function getlines(article::String)\n",
    "    new_lines = []\n",
    "    # 形態素解析に長文を渡したり、不要な呼び出しをしないように、文字列を調整\n",
    "    ## 句点「。」の後で分割する\n",
    "    lines = split(replace(article, r\"。\" => \"。\\n\"), \"\\n\")\n",
    "    for ll in lines\n",
    "        ## 行頭の空白文字列を削除\n",
    "        ll = replace(ll, r\"^[　 ]+\" => \"\")\n",
    "        ## 空行は削除\n",
    "        if length(ll) == 0\n",
    "            continue\n",
    "        end\n",
    "        # 処理済み文字列を格納\n",
    "        push!(new_lines, ll)\n",
    "    end\n",
    "    new_lines\n",
    "end"
   ]
  },
  {
   "cell_type": "code",
   "execution_count": 9,
   "id": "e707bb41-1808-4a8e-9df3-33285ae0b49c",
   "metadata": {},
   "outputs": [
    {
     "data": {
      "text/plain": [
       "countword (generic function with 1 method)"
      ]
     },
     "execution_count": 9,
     "metadata": {},
     "output_type": "execute_result"
    }
   ],
   "source": [
    "# 形態素解析して、語の一覧を返す\n",
    "using Awabi\n",
    "# 形態素解析器の設定\n",
    "## Linux / Mac\n",
    "#tokenizer = Tokenizer()\n",
    "## Windows：\n",
    "#dic = Dict(\"dicdir\" => \"C:\\\\Program Files (x86)\\\\MeCab\\\\dic\\\\ipadic\")\n",
    "#tokenizer = Tokenizer(dic)\n",
    "## SageMaker Studio Lab\n",
    "rcfile = \"/home/studio-lab-user/mecab/etc/mecabrc\"\n",
    "tokenizer = Tokenizer(rcfile)\n",
    "\n",
    "function countword(tokenizer, lines)\n",
    "    # 数え上げ格納領域\n",
    "    word_counts = Dict{String, Int}()\n",
    "\n",
    "    # 形態素解析＆数え上げ\n",
    "    for line in lines\n",
    "        # 1文を形態素解析\n",
    "        tokens = tokenize(tokenizer, line)\n",
    "        new_tokens = []\n",
    "        for token in tokens\n",
    "            attr = split(token[2], \",\")\n",
    "            hinsi = attr[1]\n",
    "            surface = token[1] # 表記\n",
    "            basic = (attr[7] != \"*\") ? attr[7] : surface   # 形態素の基本形\n",
    "            ## \n",
    "            if hinsi in [\"名詞\", \"動詞\", \"形容詞\", \"副詞\"] \n",
    "                push!(new_tokens, basic)\n",
    "            end\n",
    "        end\n",
    "        # 形態素数を数え上げ\n",
    "        for surface in new_tokens\n",
    "            word_counts[surface] = get(word_counts, surface, 0) + 1\n",
    "        end\n",
    "    end\n",
    "    word_counts\n",
    "end"
   ]
  },
  {
   "cell_type": "code",
   "execution_count": 10,
   "id": "3a213d76-24bd-4b89-94ef-75dd50a22ee4",
   "metadata": {},
   "outputs": [
    {
     "data": {
      "text/plain": [
       "makevector (generic function with 1 method)"
      ]
     },
     "execution_count": 10,
     "metadata": {},
     "output_type": "execute_result"
    }
   ],
   "source": [
    "# 語の頻度を表すDictの配列　→　一つのDictにマージ\n",
    "function mergeword(list_word_counts)\n",
    "    all_word_counts = Dict{String, Int}()\n",
    "    for wc in list_word_counts\n",
    "        mergewith!(+, all_word_counts, wc)  # Dictの合成、値は+演算\n",
    "    end\n",
    "    all_word_counts\n",
    "end\n",
    "\n",
    "# Bag of Words 作成\n",
    "function makevector(labels, list_word_counts)\n",
    "    list_vector = []\n",
    "    for wc in list_word_counts\n",
    "        vec = zeros(Int, length(labels))\n",
    "        for (w, c) in wc\n",
    "            i = findfirst(==(w), labels)\n",
    "            vec[i] = c\n",
    "        end\n",
    "        push!(list_vector, vec)\n",
    "    end\n",
    "    list_vector\n",
    "end"
   ]
  },
  {
   "cell_type": "code",
   "execution_count": 11,
   "id": "db3419aa-3ec6-422b-833c-365ed5587ef2",
   "metadata": {},
   "outputs": [
    {
     "data": {
      "text/plain": [
       "98.600457649"
      ]
     },
     "execution_count": 11,
     "metadata": {},
     "output_type": "execute_result"
    }
   ],
   "source": [
    "# 時間かかるので、測定してみる\n",
    "@elapsed begin\n",
    "    # 記事ごとの単語と頻度の一覧\n",
    "    list_word_counts = []\n",
    "    for article in articles\n",
    "        text = article[\"detail\"]\n",
    "        lines = getlines(text)\n",
    "        wc = countword(tokenizer, lines)\n",
    "        push!(list_word_counts, wc)\n",
    "        article[\"word_count\"] = wc\n",
    "    end\n",
    "    # 全体の単語と頻度の一覧を作成\n",
    "    all_word_counts = mergeword(list_word_counts)\n",
    "    # 全体の単語一覧\n",
    "    labels = sort(collect(keys(all_word_counts)))\n",
    "    # 各記事ごとの単語ベクトル（Bag of Words）作成\n",
    "    list_vector = makevector(labels, list_word_counts)\n",
    "\n",
    "    # 行列に変換する. juliaはcolumn-major order\n",
    "    mat = hcat(list_vector...)\n",
    "end"
   ]
  },
  {
   "cell_type": "code",
   "execution_count": null,
   "id": "bb2805d7-eb3e-44e0-ab90-6e8c588244ab",
   "metadata": {},
   "outputs": [],
   "source": [
    "using Clustering\n",
    "\n",
    "# K-meansを使って、利用してカテゴリー数8個のクラスタに分類する\n",
    "n_clusters = 8 #the number of clusters\n",
    "result = kmeans(mat, n_clusters; maxiter=200, display=:none)\n",
    "@assert nclusters(result) == n_clusters # verify the number of clusters\n",
    "clust_numbers = assignments(result) # get the assignments of points to clusters\n",
    "#cluster_sizes = counts(result) # get the cluster sizes\n",
    "#cluster_centers = result.centers # get the cluster centers"
   ]
  },
  {
   "cell_type": "code",
   "execution_count": null,
   "id": "c208369c-b324-4918-b8c4-a9fa259a0fbc",
   "metadata": {},
   "outputs": [],
   "source": [
    "# 元のカテゴリーと、クラスタリングの結果を比較する\n",
    "# カテゴリごとに、各クラスタに含まれる記事数を求める\n",
    "check_table = Dict([(name, zeros(Int, n_clusters)) for name in keys(categories)])\n",
    "for (clust_no, article) in zip(clust_numbers, articles)\n",
    "    category = article[\"category\"]\n",
    "    check_table[category][clust_no] += 1\n",
    "end\n",
    "check_table"
   ]
  },
  {
   "cell_type": "code",
   "execution_count": null,
   "id": "88e9ffd6-7715-4709-b525-304ada549f28",
   "metadata": {},
   "outputs": [],
   "source": []
  }
 ],
 "metadata": {
  "kernelspec": {
   "display_name": "default:Julia (4 threads) 1.7.2",
   "language": "julia",
   "name": "conda-env-default-julia-_4-threads_-1.7"
  },
  "language_info": {
   "file_extension": ".jl",
   "mimetype": "application/julia",
   "name": "julia",
   "version": "1.7.2"
  }
 },
 "nbformat": 4,
 "nbformat_minor": 5
}
